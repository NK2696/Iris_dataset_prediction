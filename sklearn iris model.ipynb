{
 "cells": [
  {
   "cell_type": "code",
   "execution_count": 28,
   "metadata": {},
   "outputs": [
    {
     "name": "stdout",
     "output_type": "stream",
     "text": [
      "1.0\n",
      "['Iris-setosa']\n"
     ]
    }
   ],
   "source": [
    "import pandas as pd\n",
    "import numpy as np\n",
    "from sklearn.neighbors import KNeighborsClassifier#instantiate learning model(k=3)\n",
    "from sklearn.model_selection import train_test_split\n",
    "from sklearn.metrics import accuracy_score\n",
    "#define column names\n",
    "N=['sepal_lenght','sepal_width','petal_lenght','petal_width','class']\n",
    "#loading trainning data\n",
    "df=pd.read_csv(r'C:\\Users\\NIKHIL\\Downloads\\iris.data.txt',header=None,names=N)\n",
    "#df is a data frame object\n",
    "df.head()\n",
    "\n",
    "#create design matrix X and target vector y\n",
    "X=np.array(df.iloc[:,0:4])#ens index is exclusive\n",
    "\n",
    "y=np.array(df['class'])#another way of indexing a pandas df\n",
    "\n",
    "X_train,X_test,y_train,y_test=train_test_split(X,y,test_size=0.23,random_state=40)\n",
    "\n",
    "knn=KNeighborsClassifier(n_neighbors=3)\n",
    "#fitting the model\n",
    "knn.fit(X_train,y_train)\n",
    "#predict the response\n",
    "pred=knn.predict(X_test)\n",
    "#evaluate accuracy\n",
    "print(accuracy_score(y_test,pred))\n",
    "\n",
    "#manual check \n",
    "test=np.array([4.8,3.1,1.6,0.2]).reshape(1,-1)\n",
    "print(knn.predict(test))"
   ]
  },
  {
   "cell_type": "code",
   "execution_count": null,
   "metadata": {},
   "outputs": [],
   "source": []
  }
 ],
 "metadata": {
  "kernelspec": {
   "display_name": "Python 3",
   "language": "python",
   "name": "python3"
  },
  "language_info": {
   "codemirror_mode": {
    "name": "ipython",
    "version": 3
   },
   "file_extension": ".py",
   "mimetype": "text/x-python",
   "name": "python",
   "nbconvert_exporter": "python",
   "pygments_lexer": "ipython3",
   "version": "3.7.4"
  }
 },
 "nbformat": 4,
 "nbformat_minor": 2
}
